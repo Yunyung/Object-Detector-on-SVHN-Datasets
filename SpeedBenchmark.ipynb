{
  "nbformat": 4,
  "nbformat_minor": 0,
  "metadata": {
    "colab": {
      "name": "CV_DL_HW2_SpeedBenchMark.ipynb",
      "provenance": [],
      "collapsed_sections": []
    },
    "kernelspec": {
      "name": "python3",
      "display_name": "Python 3"
    },
    "accelerator": "GPU"
  },
  "cells": [
    {
      "cell_type": "code",
      "metadata": {
        "colab": {
          "base_uri": "https://localhost:8080/"
        },
        "id": "-SA8emMglI_3",
        "outputId": "04535d0a-819f-4d9d-e88d-46a01eb8d2c8"
      },
      "source": [
        "# Check nvcc version\n",
        "!nvcc -V\n",
        "# Check GCC version\n",
        "!gcc --version"
      ],
      "execution_count": null,
      "outputs": [
        {
          "output_type": "stream",
          "text": [
            "nvcc: NVIDIA (R) Cuda compiler driver\n",
            "Copyright (c) 2005-2019 NVIDIA Corporation\n",
            "Built on Sun_Jul_28_19:07:16_PDT_2019\n",
            "Cuda compilation tools, release 10.1, V10.1.243\n",
            "gcc (Ubuntu 7.5.0-3ubuntu1~18.04) 7.5.0\n",
            "Copyright (C) 2017 Free Software Foundation, Inc.\n",
            "This is free software; see the source for copying conditions.  There is NO\n",
            "warranty; not even for MERCHANTABILITY or FITNESS FOR A PARTICULAR PURPOSE.\n",
            "\n"
          ],
          "name": "stdout"
        }
      ]
    },
    {
      "cell_type": "code",
      "metadata": {
        "id": "ltgOsvQjltRd",
        "colab": {
          "base_uri": "https://localhost:8080/"
        },
        "outputId": "3ebba364-f59c-44f6-97bd-eb09788ea51e"
      },
      "source": [
        "# install dependencies: (use cu101 because colab has CUDA 10.1)\n",
        "!pip install -U torch==1.5.1+cu101 torchvision==0.6.1+cu101 -f https://download.pytorch.org/whl/torch_stable.html\n",
        "\n",
        "# install mmcv-full thus we could use CUDA operators\n",
        "!pip install mmcv-full\n",
        "\n",
        "# Install mmdetection\n",
        "!rm -rf mmdetection\n",
        "!git clone https://github.com/open-mmlab/mmdetection.git\n",
        "%cd mmdetection\n",
        "\n",
        "!pip install -e .\n",
        "\n",
        "# install Pillow 7.0.0 back in order to avoid bug in colab\n",
        "!pip install Pillow==7.0.0"
      ],
      "execution_count": null,
      "outputs": [
        {
          "output_type": "stream",
          "text": [
            "Looking in links: https://download.pytorch.org/whl/torch_stable.html\n",
            "Collecting torch==1.5.1+cu101\n",
            "\u001b[?25l  Downloading https://download.pytorch.org/whl/cu101/torch-1.5.1%2Bcu101-cp36-cp36m-linux_x86_64.whl (704.4MB)\n",
            "\u001b[K     |████████████████████████████████| 704.4MB 26kB/s \n",
            "\u001b[?25hCollecting torchvision==0.6.1+cu101\n",
            "\u001b[?25l  Downloading https://download.pytorch.org/whl/cu101/torchvision-0.6.1%2Bcu101-cp36-cp36m-linux_x86_64.whl (6.6MB)\n",
            "\u001b[K     |████████████████████████████████| 6.6MB 66.2MB/s \n",
            "\u001b[?25hRequirement already satisfied, skipping upgrade: future in /usr/local/lib/python3.6/dist-packages (from torch==1.5.1+cu101) (0.16.0)\n",
            "Requirement already satisfied, skipping upgrade: numpy in /usr/local/lib/python3.6/dist-packages (from torch==1.5.1+cu101) (1.18.5)\n",
            "Requirement already satisfied, skipping upgrade: pillow>=4.1.1 in /usr/local/lib/python3.6/dist-packages (from torchvision==0.6.1+cu101) (7.0.0)\n",
            "Installing collected packages: torch, torchvision\n",
            "  Found existing installation: torch 1.7.0+cu101\n",
            "    Uninstalling torch-1.7.0+cu101:\n",
            "      Successfully uninstalled torch-1.7.0+cu101\n",
            "  Found existing installation: torchvision 0.8.1+cu101\n",
            "    Uninstalling torchvision-0.8.1+cu101:\n",
            "      Successfully uninstalled torchvision-0.8.1+cu101\n",
            "Successfully installed torch-1.5.1+cu101 torchvision-0.6.1+cu101\n",
            "Collecting mmcv-full\n",
            "\u001b[?25l  Downloading https://files.pythonhosted.org/packages/d7/ca/fa9f0aedeb6c2f701996a71ef03e365c2870b1bb0ea63f07459b1ef9128e/mmcv-full-1.2.1.tar.gz (251kB)\n",
            "\u001b[K     |████████████████████████████████| 256kB 13.1MB/s \n",
            "\u001b[?25hCollecting addict\n",
            "  Downloading https://files.pythonhosted.org/packages/6a/00/b08f23b7d7e1e14ce01419a467b583edbb93c6cdb8654e54a9cc579cd61f/addict-2.4.0-py3-none-any.whl\n",
            "Requirement already satisfied: numpy in /usr/local/lib/python3.6/dist-packages (from mmcv-full) (1.18.5)\n",
            "Requirement already satisfied: Pillow in /usr/local/lib/python3.6/dist-packages (from mmcv-full) (7.0.0)\n",
            "Requirement already satisfied: pyyaml in /usr/local/lib/python3.6/dist-packages (from mmcv-full) (3.13)\n",
            "Collecting yapf\n",
            "\u001b[?25l  Downloading https://files.pythonhosted.org/packages/c1/5d/d84677fe852bc5e091739acda444a9b6700ffc6b11a21b00dd244c8caef0/yapf-0.30.0-py2.py3-none-any.whl (190kB)\n",
            "\u001b[K     |████████████████████████████████| 194kB 21.9MB/s \n",
            "\u001b[?25hBuilding wheels for collected packages: mmcv-full\n",
            "  Building wheel for mmcv-full (setup.py) ... \u001b[?25l\u001b[?25hdone\n",
            "  Created wheel for mmcv-full: filename=mmcv_full-1.2.1-cp36-cp36m-linux_x86_64.whl size=20375166 sha256=380018566a65d0527be94223d0ff8355ccbbf667546b7ce03fd5a7b5aa547693\n",
            "  Stored in directory: /root/.cache/pip/wheels/41/0b/39/0cec97174407144208eed51efda0169de0860c0b8460ed0855\n",
            "Successfully built mmcv-full\n",
            "Installing collected packages: addict, yapf, mmcv-full\n",
            "Successfully installed addict-2.4.0 mmcv-full-1.2.1 yapf-0.30.0\n",
            "Cloning into 'mmdetection'...\n",
            "remote: Enumerating objects: 27, done.\u001b[K\n",
            "remote: Counting objects: 100% (27/27), done.\u001b[K\n",
            "remote: Compressing objects: 100% (26/26), done.\u001b[K\n",
            "remote: Total 14443 (delta 8), reused 2 (delta 1), pack-reused 14416\u001b[K\n",
            "Receiving objects: 100% (14443/14443), 14.19 MiB | 13.84 MiB/s, done.\n",
            "Resolving deltas: 100% (9830/9830), done.\n",
            "/content/mmdetection\n",
            "Obtaining file:///content/mmdetection\n",
            "Requirement already satisfied: matplotlib in /usr/local/lib/python3.6/dist-packages (from mmdet==2.6.0) (3.2.2)\n",
            "Collecting mmpycocotools\n",
            "  Downloading https://files.pythonhosted.org/packages/99/51/1bc1d79f296347eeb2d1a2e0606885ab1e4682833bf275fd39c189952e26/mmpycocotools-12.0.3.tar.gz\n",
            "Requirement already satisfied: numpy in /usr/local/lib/python3.6/dist-packages (from mmdet==2.6.0) (1.18.5)\n",
            "Requirement already satisfied: six in /usr/local/lib/python3.6/dist-packages (from mmdet==2.6.0) (1.15.0)\n",
            "Collecting terminaltables\n",
            "  Downloading https://files.pythonhosted.org/packages/9b/c4/4a21174f32f8a7e1104798c445dacdc1d4df86f2f26722767034e4de4bff/terminaltables-3.1.0.tar.gz\n",
            "Requirement already satisfied: cycler>=0.10 in /usr/local/lib/python3.6/dist-packages (from matplotlib->mmdet==2.6.0) (0.10.0)\n",
            "Requirement already satisfied: kiwisolver>=1.0.1 in /usr/local/lib/python3.6/dist-packages (from matplotlib->mmdet==2.6.0) (1.3.1)\n",
            "Requirement already satisfied: python-dateutil>=2.1 in /usr/local/lib/python3.6/dist-packages (from matplotlib->mmdet==2.6.0) (2.8.1)\n",
            "Requirement already satisfied: pyparsing!=2.0.4,!=2.1.2,!=2.1.6,>=2.0.1 in /usr/local/lib/python3.6/dist-packages (from matplotlib->mmdet==2.6.0) (2.4.7)\n",
            "Requirement already satisfied: setuptools>=18.0 in /usr/local/lib/python3.6/dist-packages (from mmpycocotools->mmdet==2.6.0) (50.3.2)\n",
            "Requirement already satisfied: cython>=0.27.3 in /usr/local/lib/python3.6/dist-packages (from mmpycocotools->mmdet==2.6.0) (0.29.21)\n",
            "Building wheels for collected packages: mmpycocotools, terminaltables\n",
            "  Building wheel for mmpycocotools (setup.py) ... \u001b[?25l\u001b[?25hdone\n",
            "  Created wheel for mmpycocotools: filename=mmpycocotools-12.0.3-cp36-cp36m-linux_x86_64.whl size=266797 sha256=82b79c92fcec6c1b3a7b415e2cda9cee0551b78443054746afe4a7c7cb5775f6\n",
            "  Stored in directory: /root/.cache/pip/wheels/a2/b0/8d/3307912785a42bc80f673946fac676d5c596eee537af7a599c\n",
            "  Building wheel for terminaltables (setup.py) ... \u001b[?25l\u001b[?25hdone\n",
            "  Created wheel for terminaltables: filename=terminaltables-3.1.0-cp36-none-any.whl size=15356 sha256=187c3436a3f617401b6cd7dc18632afbc4ed08791ef641431d4e74b9e66ed1e9\n",
            "  Stored in directory: /root/.cache/pip/wheels/30/6b/50/6c75775b681fb36cdfac7f19799888ef9d8813aff9e379663e\n",
            "Successfully built mmpycocotools terminaltables\n",
            "Installing collected packages: mmpycocotools, terminaltables, mmdet\n",
            "  Running setup.py develop for mmdet\n",
            "Successfully installed mmdet mmpycocotools-12.0.3 terminaltables-3.1.0\n",
            "Requirement already satisfied: Pillow==7.0.0 in /usr/local/lib/python3.6/dist-packages (7.0.0)\n"
          ],
          "name": "stdout"
        }
      ]
    },
    {
      "cell_type": "code",
      "metadata": {
        "id": "9dREy5sxluyD",
        "colab": {
          "base_uri": "https://localhost:8080/"
        },
        "outputId": "555a1228-daaf-4d56-da94-0cd56feae2f3"
      },
      "source": [
        "# Check Pytorch installation\n",
        "import torch, torchvision\n",
        "print(torch.__version__, torch.cuda.is_available())\n",
        "\n",
        "# Check MMDetection installation\n",
        "import mmdet\n",
        "print(mmdet.__version__)\n",
        "\n",
        "# Check mmcv installation\n",
        "from mmcv.ops import get_compiling_cuda_version, get_compiler_version\n",
        "print(get_compiling_cuda_version())\n",
        "print(get_compiler_version())"
      ],
      "execution_count": null,
      "outputs": [
        {
          "output_type": "stream",
          "text": [
            "1.5.1+cu101 True\n",
            "2.6.0\n",
            "10.1\n",
            "GCC 7.5\n"
          ],
          "name": "stdout"
        }
      ]
    },
    {
      "cell_type": "code",
      "metadata": {
        "id": "0uWohpYslu4p",
        "colab": {
          "base_uri": "https://localhost:8080/"
        },
        "outputId": "5a1fecd9-9da8-4290-cb7d-8c718cc536e4"
      },
      "source": [
        "!mkdir checkpoints\n",
        "!wget -c https://open-mmlab.s3.ap-northeast-2.amazonaws.com/mmdetection/v2.0/mask_rcnn/mask_rcnn_r50_caffe_fpn_mstrain-poly_3x_coco/mask_rcnn_r50_caffe_fpn_mstrain-poly_3x_coco_bbox_mAP-0.408__segm_mAP-0.37_20200504_163245-42aa3d00.pth \\\n",
        "      -O checkpoints/mask_rcnn_r50_caffe_fpn_mstrain-poly_3x_coco_bbox_mAP-0.408__segm_mAP-0.37_20200504_163245-42aa3d00.pth"
      ],
      "execution_count": null,
      "outputs": [
        {
          "output_type": "stream",
          "text": [
            "--2020-11-26 10:03:41--  https://open-mmlab.s3.ap-northeast-2.amazonaws.com/mmdetection/v2.0/mask_rcnn/mask_rcnn_r50_caffe_fpn_mstrain-poly_3x_coco/mask_rcnn_r50_caffe_fpn_mstrain-poly_3x_coco_bbox_mAP-0.408__segm_mAP-0.37_20200504_163245-42aa3d00.pth\n",
            "Resolving open-mmlab.s3.ap-northeast-2.amazonaws.com (open-mmlab.s3.ap-northeast-2.amazonaws.com)... 52.219.58.103\n",
            "Connecting to open-mmlab.s3.ap-northeast-2.amazonaws.com (open-mmlab.s3.ap-northeast-2.amazonaws.com)|52.219.58.103|:443... connected.\n",
            "HTTP request sent, awaiting response... 200 OK\n",
            "Length: 177867103 (170M) [application/x-www-form-urlencoded]\n",
            "Saving to: ‘checkpoints/mask_rcnn_r50_caffe_fpn_mstrain-poly_3x_coco_bbox_mAP-0.408__segm_mAP-0.37_20200504_163245-42aa3d00.pth’\n",
            "\n",
            "checkpoints/mask_rc 100%[===================>] 169.63M  11.8MB/s    in 16s     \n",
            "\n",
            "2020-11-26 10:03:59 (10.4 MB/s) - ‘checkpoints/mask_rcnn_r50_caffe_fpn_mstrain-poly_3x_coco_bbox_mAP-0.408__segm_mAP-0.37_20200504_163245-42aa3d00.pth’ saved [177867103/177867103]\n",
            "\n"
          ],
          "name": "stdout"
        }
      ]
    },
    {
      "cell_type": "markdown",
      "metadata": {
        "id": "ZVOJm3Vz9h7R"
      },
      "source": [
        "# 新增區段"
      ]
    },
    {
      "cell_type": "markdown",
      "metadata": {
        "id": "iB_taNYj9lMR"
      },
      "source": [
        "# 新增區段"
      ]
    },
    {
      "cell_type": "code",
      "metadata": {
        "colab": {
          "base_uri": "https://localhost:8080/"
        },
        "id": "fkWR3USXs04q",
        "outputId": "5103a50e-c8d6-4ad0-f4b4-6d6fd986d7a6"
      },
      "source": [
        "%cd /content\n",
        "!pwd"
      ],
      "execution_count": null,
      "outputs": [
        {
          "output_type": "stream",
          "text": [
            "/content\n",
            "/content\n"
          ],
          "name": "stdout"
        }
      ]
    },
    {
      "cell_type": "code",
      "metadata": {
        "colab": {
          "base_uri": "https://localhost:8080/"
        },
        "id": "lzVvCID_wWHE",
        "outputId": "1833fb48-c7ac-4caf-e56d-50d7804d50f5"
      },
      "source": [
        "from google.colab import drive\n",
        "drive.mount('/content/drive')"
      ],
      "execution_count": null,
      "outputs": [
        {
          "output_type": "stream",
          "text": [
            "Mounted at /content/drive\n"
          ],
          "name": "stdout"
        }
      ]
    },
    {
      "cell_type": "code",
      "metadata": {
        "id": "PfH9cHz4lu-c"
      },
      "source": [
        "from mmdet.apis import inference_detector, init_detector, show_result_pyplot\n",
        "\n",
        "# Choose to use a config and initialize the detector\n",
        "config = 'mmdetection/configs/cascade_rcnn/cascade_rcnn_r101_caffe_fpn_1x_coco_copy.py'\n",
        "# Setup a checkpoint file to load\n",
        "checkpoint = F\"/content/drive/My Drive/mmdetection_speedbenchmark/cascade_rcnn.pth\"\n",
        "# initialize the detector\n",
        "model = init_detector(config, checkpoint, device='cuda:0')\n",
        "# Use the detector to do inference\n",
        "img = '/content/drive/My Drive/mmdetection_speedbenchmark/demo_img/1.png'"
      ],
      "execution_count": null,
      "outputs": []
    },
    {
      "cell_type": "code",
      "metadata": {
        "id": "vptYY0GEl0lz",
        "colab": {
          "base_uri": "https://localhost:8080/"
        },
        "outputId": "6e2719f9-163f-431f-eca3-db6e5082a6c2"
      },
      "source": [
        "%%timeit\n",
        "result = inference_detector(model, img)"
      ],
      "execution_count": null,
      "outputs": [
        {
          "output_type": "stream",
          "text": [
            "10 loops, best of 3: 94.1 ms per loop\n"
          ],
          "name": "stdout"
        }
      ]
    },
    {
      "cell_type": "code",
      "metadata": {
        "id": "1dUUyvfc1QFJ"
      },
      "source": [
        "result = inference_detector(model, img)"
      ],
      "execution_count": null,
      "outputs": []
    },
    {
      "cell_type": "code",
      "metadata": {
        "id": "fj-c_MLVl2Zo",
        "colab": {
          "base_uri": "https://localhost:8080/"
        },
        "outputId": "f29ba612-abb2-4e5e-ef12-f20a2105d74a"
      },
      "source": [
        "# Let's plot the result\n",
        "model.show_result(img, result)"
      ],
      "execution_count": null,
      "outputs": [
        {
          "output_type": "execute_result",
          "data": {
            "text/plain": [
              "array([[[ 56,  96,  41],\n",
              "        [ 57,  96,  41],\n",
              "        [ 59,  95,  43],\n",
              "        ...,\n",
              "        [ 53, 100,  37],\n",
              "        [ 53, 100,  37],\n",
              "        [ 55, 100,  37]],\n",
              "\n",
              "       [[ 59,  98,  42],\n",
              "        [ 59,  98,  42],\n",
              "        [ 61,  97,  43],\n",
              "        ...,\n",
              "        [ 55, 102,  39],\n",
              "        [ 55, 102,  39],\n",
              "        [ 57, 102,  39]],\n",
              "\n",
              "       [[ 61, 101,  43],\n",
              "        [ 61, 101,  43],\n",
              "        [ 62,  99,  43],\n",
              "        ...,\n",
              "        [ 58, 103,  40],\n",
              "        [ 58, 103,  40],\n",
              "        [ 58, 103,  40]],\n",
              "\n",
              "       ...,\n",
              "\n",
              "       [[ 82, 122,  50],\n",
              "        [ 82, 122,  50],\n",
              "        [ 84, 122,  50],\n",
              "        ...,\n",
              "        [ 82, 120,  44],\n",
              "        [ 82, 120,  44],\n",
              "        [ 82, 120,  44]],\n",
              "\n",
              "       [[ 80, 123,  50],\n",
              "        [ 82, 122,  50],\n",
              "        [ 84, 122,  50],\n",
              "        ...,\n",
              "        [ 82, 120,  44],\n",
              "        [ 82, 120,  44],\n",
              "        [ 82, 120,  44]],\n",
              "\n",
              "       [[ 82, 115,  64],\n",
              "        [ 82, 115,  64],\n",
              "        [ 84, 115,  64],\n",
              "        ...,\n",
              "        [ 82, 112,  59],\n",
              "        [ 82, 112,  59],\n",
              "        [ 82, 112,  59]]], dtype=uint8)"
            ]
          },
          "metadata": {
            "tags": []
          },
          "execution_count": 13
        }
      ]
    }
  ]
}